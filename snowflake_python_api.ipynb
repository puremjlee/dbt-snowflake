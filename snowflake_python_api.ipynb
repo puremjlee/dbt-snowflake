{
 "metadata": {
  "kernelspec": {
   "display_name": "python310_snowpark",
   "language": "python",
   "name": "python310_snowpark"
  },
  "language_info": {
   "codemirror_mode": {
    "name": "ipython",
    "version": 3
   },
   "file_extension": ".py",
   "mimetype": "text/x-python",
   "name": "python",
   "nbconvert_exporter": "python",
   "pygments_lexer": "ipython3",
   "version": "3.10.0"
  }
 },
 "nbformat_minor": 5,
 "nbformat": 4,
 "cells": [
  {
   "cell_type": "code",
   "execution_count": 1,
   "id": "910c4bdf-ab17-4cce-91ff-1906d767264b",
   "metadata": {
    "name": "cell1",
    "language": "python"
   },
   "outputs": [],
   "source": "from datetime import timedelta\n\nfrom snowflake.snowpark import Session\nfrom snowflake.snowpark.functions import col\nfrom snowflake.core import Root, CreateMode\nfrom snowflake.core.database import Database\nfrom snowflake.core.schema import Schema\nfrom snowflake.core.stage import Stage\nfrom snowflake.core.table import Table, TableColumn, PrimaryKey\nfrom snowflake.core.task import StoredProcedureCall, Task\nfrom snowflake.core.task.dagv1 import DAGOperation, DAG, DAGTask\nfrom snowflake.core.warehouse import Warehouse #abcabc\n"
  },
  {
   "cell_type": "code",
   "execution_count": 2,
   "id": "8a49d8e7-4b9c-49d0-91b6-1ec067afcaf0",
   "metadata": {
    "name": "cell2",
    "language": "python"
   },
   "outputs": [],
   "source": [
    "connection_params = {\n",
    "    \"connection_name\": \"default\"\n",
    "}"
   ]
  },
  {
   "cell_type": "code",
   "execution_count": 3,
   "id": "88fce1e6-8af1-413e-a190-c962b6f47789",
   "metadata": {
    "name": "cell3",
    "language": "python"
   },
   "outputs": [],
   "source": [
    "session = Session.builder.configs(connection_params).create()"
   ]
  },
  {
   "cell_type": "code",
   "execution_count": 4,
   "id": "8e8a127c-e8bb-446d-b52e-7bf2ce66411b",
   "metadata": {
    "name": "cell4",
    "language": "python"
   },
   "outputs": [
    {
     "data": {
      "text/plain": [
       "{'connection_name': 'default'}"
      ]
     },
     "execution_count": 4,
     "metadata": {},
     "output_type": "execute_result"
    }
   ],
   "source": [
    "connection_params"
   ]
  },
  {
   "cell_type": "code",
   "execution_count": 5,
   "id": "ecf2a661-6011-47a5-88d8-84fd9a58d223",
   "metadata": {
    "name": "cell5",
    "language": "python"
   },
   "outputs": [],
   "source": [
    "root = Root(session)"
   ]
  },
  {
   "cell_type": "code",
   "execution_count": 6,
   "id": "d4cb098d-e7eb-4886-9d6f-2934c3092efa",
   "metadata": {
    "name": "cell6",
    "language": "python"
   },
   "outputs": [],
   "source": [
    "database = root.databases.create(\n",
    "  Database(\n",
    "    name=\"PYTHON_API_DB\"),\n",
    "    mode=CreateMode.or_replace\n",
    "  )"
   ]
  },
  {
   "cell_type": "code",
   "execution_count": 7,
   "id": "d1fe1a66-c7fb-48d4-920b-d45915543dc8",
   "metadata": {
    "name": "cell7",
    "language": "python"
   },
   "outputs": [],
   "source": [
    "schema = database.schemas.create(\n",
    "  Schema(\n",
    "    name=\"PYTHON_API_SCHEMA\"),\n",
    "    mode=CreateMode.or_replace,\n",
    "  )"
   ]
  },
  {
   "cell_type": "code",
   "execution_count": 8,
   "id": "6b842f38-5754-4c63-a360-354126d72458",
   "metadata": {
    "name": "cell8",
    "language": "python"
   },
   "outputs": [],
   "source": [
    "table = schema.tables.create(\n",
    "  Table(\n",
    "    name=\"PYTHON_API_TABLE\",\n",
    "    columns=[\n",
    "      TableColumn(\n",
    "        name=\"TEMPERATURE\",\n",
    "        datatype=\"int\",\n",
    "        nullable=False,\n",
    "      ),\n",
    "      TableColumn(\n",
    "        name=\"LOCATION\",\n",
    "        datatype=\"string\",\n",
    "      ),\n",
    "    ],\n",
    "  ),\n",
    "mode=CreateMode.or_replace\n",
    ")"
   ]
  },
  {
   "cell_type": "code",
   "execution_count": 9,
   "id": "8c2b092b-fd7b-40b1-ad76-132e5b72b694",
   "metadata": {
    "name": "cell9",
    "language": "python"
   },
   "outputs": [
    {
     "data": {
      "text/plain": [
       "{'name': 'PYTHON_API_TABLE',\n",
       " 'kind': 'PERMANENT',\n",
       " 'enable_schema_evolution': False,\n",
       " 'change_tracking': False,\n",
       " 'data_retention_time_in_days': 1,\n",
       " 'max_data_extension_time_in_days': 14,\n",
       " 'default_ddl_collation': '',\n",
       " 'columns': [{'name': 'TEMPERATURE',\n",
       "   'datatype': 'NUMBER(38,0)',\n",
       "   'nullable': False},\n",
       "  {'name': 'LOCATION', 'datatype': 'VARCHAR(16777216)', 'nullable': True}],\n",
       " 'created_on': datetime.datetime(2024, 10, 30, 0, 9, 24, 65000, tzinfo=TzInfo(UTC)),\n",
       " 'database_name': 'PYTHON_API_DB',\n",
       " 'schema_name': 'PYTHON_API_SCHEMA',\n",
       " 'rows': 0,\n",
       " 'bytes': 0,\n",
       " 'owner': 'ACCOUNTADMIN',\n",
       " 'automatic_clustering': False,\n",
       " 'search_optimization': False,\n",
       " 'owner_role_type': 'ROLE',\n",
       " 'table_type': 'NORMAL'}"
      ]
     },
     "execution_count": 9,
     "metadata": {},
     "output_type": "execute_result"
    }
   ],
   "source": [
    "table_details = table.fetch()\n",
    "table_details.to_dict()"
   ]
  },
  {
   "cell_type": "code",
   "execution_count": 10,
   "id": "24211169-b8fa-4e25-aa11-7744d36d7ca2",
   "metadata": {
    "name": "cell10",
    "language": "python"
   },
   "outputs": [],
   "source": [
    "table_details.columns.append(\n",
    "    TableColumn(\n",
    "      name=\"elevation\",\n",
    "      datatype=\"int\",\n",
    "      nullable=False,\n",
    "      constraints=[PrimaryKey()],\n",
    "    )\n",
    ")"
   ]
  },
  {
   "cell_type": "code",
   "execution_count": 11,
   "id": "665e77a6-174f-40c4-a9e2-0ea87a6060f6",
   "metadata": {
    "name": "cell11",
    "language": "python"
   },
   "outputs": [],
   "source": [
    "table.create_or_alter(table_details)"
   ]
  },
  {
   "cell_type": "code",
   "execution_count": 12,
   "id": "fa49829c-613b-4d3e-b7f9-02e83cc24e31",
   "metadata": {
    "name": "cell12",
    "language": "python"
   },
   "outputs": [
    {
     "data": {
      "text/plain": [
       "{'name': 'PYTHON_API_TABLE',\n",
       " 'kind': 'PERMANENT',\n",
       " 'enable_schema_evolution': False,\n",
       " 'change_tracking': False,\n",
       " 'data_retention_time_in_days': 1,\n",
       " 'max_data_extension_time_in_days': 14,\n",
       " 'default_ddl_collation': '',\n",
       " 'columns': [{'name': 'TEMPERATURE',\n",
       "   'datatype': 'NUMBER(38,0)',\n",
       "   'nullable': False},\n",
       "  {'name': 'LOCATION', 'datatype': 'VARCHAR(16777216)', 'nullable': True},\n",
       "  {'name': 'ELEVATION', 'datatype': 'NUMBER(38,0)', 'nullable': False}],\n",
       " 'constraints': [{'name': 'ELEVATION',\n",
       "   'column_names': ['ELEVATION'],\n",
       "   'constraint_type': 'PRIMARY KEY'}],\n",
       " 'created_on': datetime.datetime(2024, 10, 30, 0, 9, 24, 65000, tzinfo=TzInfo(UTC)),\n",
       " 'database_name': 'PYTHON_API_DB',\n",
       " 'schema_name': 'PYTHON_API_SCHEMA',\n",
       " 'rows': 0,\n",
       " 'bytes': 0,\n",
       " 'owner': 'ACCOUNTADMIN',\n",
       " 'automatic_clustering': False,\n",
       " 'search_optimization': False,\n",
       " 'owner_role_type': 'ROLE',\n",
       " 'table_type': 'NORMAL'}"
      ]
     },
     "execution_count": 12,
     "metadata": {},
     "output_type": "execute_result"
    }
   ],
   "source": [
    "table.fetch().to_dict()"
   ]
  },
  {
   "cell_type": "code",
   "execution_count": 13,
   "id": "c93f4806-a27a-4560-94d2-04925b326623",
   "metadata": {
    "name": "cell13",
    "language": "python"
   },
   "outputs": [],
   "source": "warehouses = root.warehouses\n"
  },
  {
   "cell_type": "code",
   "execution_count": 14,
   "id": "99851942-5e66-44ee-93fc-846e4b56e4b6",
   "metadata": {
    "name": "cell14",
    "language": "python"
   },
   "outputs": [],
   "source": [
    "python_api_wh = Warehouse(\n",
    "    name=\"PYTHON_API_WH\",\n",
    "    warehouse_size=\"SMALL\",\n",
    "    auto_suspend=500,\n",
    ")\n",
    "\n",
    "warehouse = warehouses.create(python_api_wh,mode=CreateMode.or_replace)"
   ]
  },
  {
   "cell_type": "code",
   "execution_count": 15,
   "id": "8d94a6ff-f7cb-4f45-9917-99aeccb661e8",
   "metadata": {
    "name": "cell15",
    "language": "python"
   },
   "outputs": [
    {
     "data": {
      "text/plain": [
       "{'name': 'PYTHON_API_WH',\n",
       " 'warehouse_type': 'STANDARD',\n",
       " 'warehouse_size': 'Small',\n",
       " 'max_cluster_count': 1,\n",
       " 'min_cluster_count': 1,\n",
       " 'scaling_policy': 'STANDARD',\n",
       " 'auto_suspend': 500,\n",
       " 'auto_resume': 'true',\n",
       " 'enable_query_acceleration': 'false',\n",
       " 'query_acceleration_max_scale_factor': 8,\n",
       " 'max_concurrency_level': 8,\n",
       " 'statement_queued_timeout_in_seconds': 0,\n",
       " 'statement_timeout_in_seconds': 172800,\n",
       " 'type': 'STANDARD',\n",
       " 'size': 'Small',\n",
       " 'state': 'STARTED',\n",
       " 'started_clusters': 1,\n",
       " 'running': 0,\n",
       " 'queued': 0,\n",
       " 'is_default': False,\n",
       " 'is_current': True,\n",
       " 'available': ' 100',\n",
       " 'provisioning': '0',\n",
       " 'quiescing': '0',\n",
       " 'other': '0',\n",
       " 'created_on': datetime.datetime(1970, 1, 21, 0, 37, 26, 965000, tzinfo=TzInfo(UTC)),\n",
       " 'resumed_on': datetime.datetime(1970, 1, 21, 0, 37, 26, 965000, tzinfo=TzInfo(UTC)),\n",
       " 'updated_on': datetime.datetime(1970, 1, 21, 0, 37, 26, 965000, tzinfo=TzInfo(UTC)),\n",
       " 'owner': 'ACCOUNTADMIN',\n",
       " 'owner_role_type': 'ROLE'}"
      ]
     },
     "execution_count": 15,
     "metadata": {},
     "output_type": "execute_result"
    }
   ],
   "source": [
    "warehouse_details = warehouse.fetch()\n",
    "warehouse_details.to_dict()"
   ]
  },
  {
   "cell_type": "code",
   "execution_count": 16,
   "id": "c5b95435-fbf5-41a7-a195-2caff1c5370f",
   "metadata": {
    "name": "cell16",
    "language": "python"
   },
   "outputs": [
    {
     "data": {
      "text/plain": [
       "{'name': 'PYTHON_API_WH',\n",
       " 'warehouse_type': 'STANDARD',\n",
       " 'warehouse_size': 'Small',\n",
       " 'max_cluster_count': 1,\n",
       " 'min_cluster_count': 1,\n",
       " 'scaling_policy': 'STANDARD',\n",
       " 'auto_suspend': 500,\n",
       " 'auto_resume': 'true',\n",
       " 'enable_query_acceleration': 'false',\n",
       " 'query_acceleration_max_scale_factor': 8,\n",
       " 'max_concurrency_level': 8,\n",
       " 'statement_queued_timeout_in_seconds': 0,\n",
       " 'statement_timeout_in_seconds': 172800,\n",
       " 'type': 'STANDARD',\n",
       " 'size': 'Small',\n",
       " 'state': 'STARTED',\n",
       " 'started_clusters': 1,\n",
       " 'running': 0,\n",
       " 'queued': 0,\n",
       " 'is_default': False,\n",
       " 'is_current': True,\n",
       " 'available': ' 100',\n",
       " 'provisioning': '0',\n",
       " 'quiescing': '0',\n",
       " 'other': '0',\n",
       " 'created_on': datetime.datetime(1970, 1, 21, 0, 37, 26, 965000, tzinfo=TzInfo(UTC)),\n",
       " 'resumed_on': datetime.datetime(1970, 1, 21, 0, 37, 26, 965000, tzinfo=TzInfo(UTC)),\n",
       " 'updated_on': datetime.datetime(1970, 1, 21, 0, 37, 26, 965000, tzinfo=TzInfo(UTC)),\n",
       " 'owner': 'ACCOUNTADMIN',\n",
       " 'owner_role_type': 'ROLE'}"
      ]
     },
     "execution_count": 16,
     "metadata": {},
     "output_type": "execute_result"
    }
   ],
   "source": [
    "warehouse_list = warehouses.iter(like=\"PYTHON_API_WH\")\n",
    "result = next(warehouse_list)\n",
    "result.to_dict()"
   ]
  },
  {
   "cell_type": "code",
   "execution_count": 17,
   "id": "af52cd25-ab2d-4b4c-8c97-2f74eae5e1cd",
   "metadata": {
    "name": "cell17",
    "language": "python"
   },
   "outputs": [
    {
     "data": {
      "text/plain": [
       "'Small'"
      ]
     },
     "execution_count": 17,
     "metadata": {},
     "output_type": "execute_result"
    }
   ],
   "source": [
    "warehouse.fetch().size"
   ]
  },
  {
   "cell_type": "code",
   "execution_count": 18,
   "id": "c2021824-63e0-4d71-aa9c-9fb65338bd17",
   "metadata": {
    "name": "cell18",
    "language": "python"
   },
   "outputs": [],
   "source": [
    "#warehouse.drop()"
   ]
  },
  {
   "cell_type": "code",
   "execution_count": 19,
   "id": "455048d1-8494-4f3e-b5d0-6bbb1560bae0",
   "metadata": {
    "name": "cell19",
    "language": "python"
   },
   "outputs": [
    {
     "data": {
      "text/plain": [
       "<snowflake.core.stage._stage.StageResource at 0x1394f8ac0>"
      ]
     },
     "execution_count": 19,
     "metadata": {},
     "output_type": "execute_result"
    }
   ],
   "source": [
    "stages = root.databases[database.name].schemas[schema.name].stages\n",
    "stages.create(Stage(name=\"TASKS_STAGE\"))"
   ]
  },
  {
   "cell_type": "code",
   "execution_count": 20,
   "id": "78c275d4-59b0-471e-95f0-1b56fb5e45bb",
   "metadata": {
    "name": "cell20",
    "language": "python"
   },
   "outputs": [],
   "source": [
    "def trunc(session: Session, from_table: str, to_table: str, count: int) -> str:\n",
    "  (\n",
    "    session\n",
    "    .table(from_table)\n",
    "    .limit(count)\n",
    "    .write.save_as_table(to_table)\n",
    "  )\n",
    "  return \"Truncated table successfully created!\"\n",
    "\n",
    "def filter_by_shipmode(session: Session, mode: str) -> str:\n",
    "  (\n",
    "    session\n",
    "    .table(\"snowflake_sample_data.tpch_sf100.lineitem\")\n",
    "    .filter(col(\"L_SHIPMODE\") == mode)\n",
    "    .limit(10)\n",
    "    .write.save_as_table(\"filter_table\")\n",
    "  )\n",
    "  return \"Filter table successfully created!\""
   ]
  },
  {
   "cell_type": "code",
   "execution_count": 21,
   "id": "f3c64ba1-6675-446a-ae96-85412ce0971a",
   "metadata": {
    "name": "cell21",
    "language": "python"
   },
   "outputs": [],
   "source": [
    "#session.sql('use warehouse compute_wh');"
   ]
  },
  {
   "cell_type": "code",
   "execution_count": 22,
   "id": "01e9190f-8643-41aa-9718-cae164ce8942",
   "metadata": {
    "name": "cell22",
    "language": "python"
   },
   "outputs": [],
   "source": [
    "tasks_stage = f\"{database.name}.{schema.name}.TASKS_STAGE\"\n",
    "\n",
    "task1 = Task(\n",
    "    name=\"task_python_api_trunc\",\n",
    "    definition=StoredProcedureCall(\n",
    "      func=trunc,\n",
    "      stage_location=f\"@{tasks_stage}\",\n",
    "      packages=[\"snowflake-snowpark-python\"],\n",
    "    ),\n",
    "    warehouse=\"COMPUTE_WH\",\n",
    "    schedule=timedelta(minutes=1)\n",
    ")\n",
    "\n",
    "task2 = Task(\n",
    "    name=\"task_python_api_filter\",\n",
    "    definition=StoredProcedureCall(\n",
    "      func=filter_by_shipmode,\n",
    "      stage_location=f\"@{tasks_stage}\",\n",
    "      packages=[\"snowflake-snowpark-python\"],\n",
    "    ),\n",
    "    warehouse=\"COMPUTE_WH\"\n",
    ")"
   ]
  },
  {
   "cell_type": "code",
   "execution_count": 23,
   "id": "3834422d-0b00-40eb-9abe-70f469f6842c",
   "metadata": {
    "name": "cell23",
    "language": "python"
   },
   "outputs": [
    {
     "name": "stderr",
     "output_type": "stream",
     "text": [
      "The version of package 'snowflake-snowpark-python' in the local environment is 1.24.0, which does not fit the criteria for the requirement 'snowflake-snowpark-python'. Your UDF might not work when the package version is different between the server and your local environment.\n",
      "The version of package 'snowflake-snowpark-python' in the local environment is 1.24.0, which does not fit the criteria for the requirement 'snowflake-snowpark-python'. Your UDF might not work when the package version is different between the server and your local environment.\n"
     ]
    }
   ],
   "source": [
    "# create the task in the Snowflake database\n",
    "session.sql('use warehouse compute_wh')\n",
    "\n",
    "tasks = schema.tasks\n",
    "trunc_task = tasks.create(task1, mode=CreateMode.or_replace)\n",
    "\n",
    "task2.predecessors = [trunc_task.name]\n",
    "filter_task = tasks.create(task2, mode=CreateMode.or_replace)"
   ]
  },
  {
   "cell_type": "code",
   "execution_count": 26,
   "id": "dba29492-72f0-4321-aa27-4a26818e2612",
   "metadata": {
    "name": "cell24",
    "language": "python"
   },
   "outputs": [
    {
     "name": "stdout",
     "output_type": "stream",
     "text": [
      "TASK_PYTHON_API_FILTER\n",
      "TASK_PYTHON_API_TRUNC\n"
     ]
    }
   ],
   "source": [
    "taskiter = tasks.iter()\n",
    "for t in taskiter:\n",
    "    print(t.name)"
   ]
  },
  {
   "cell_type": "code",
   "execution_count": 27,
   "id": "79113a1b-9803-4c4b-8391-7ab503e7b5a4",
   "metadata": {
    "name": "cell25",
    "language": "python"
   },
   "outputs": [],
   "source": [
    "trunc_task.resume()"
   ]
  },
  {
   "cell_type": "code",
   "execution_count": 28,
   "id": "9239a943-45b1-41e7-86c1-e3afc2f8503d",
   "metadata": {
    "name": "cell26",
    "language": "python"
   },
   "outputs": [
    {
     "name": "stdout",
     "output_type": "stream",
     "text": [
      "Name:  TASK_PYTHON_API_FILTER | State:  suspended\n",
      "Name:  TASK_PYTHON_API_TRUNC | State:  started\n"
     ]
    }
   ],
   "source": [
    "taskiter = tasks.iter()\n",
    "for t in taskiter:\n",
    "    print(\"Name: \", t.name, \"| State: \", t.state)"
   ]
  },
  {
   "cell_type": "code",
   "execution_count": 29,
   "id": "45aa01ca-a5ac-42e7-9314-61ea75a4f16b",
   "metadata": {
    "name": "cell27",
    "language": "python"
   },
   "outputs": [],
   "source": [
    "trunc_task.suspend()"
   ]
  },
  {
   "cell_type": "code",
   "execution_count": 30,
   "id": "489e756d-c465-4404-aca1-43d04fee3584",
   "metadata": {
    "name": "cell28",
    "language": "python"
   },
   "outputs": [],
   "source": [
    "trunc_task.drop()\n",
    "filter_task.drop()"
   ]
  },
  {
   "cell_type": "code",
   "execution_count": 31,
   "id": "638e4c7a-7900-402f-845f-408acbd1e7ac",
   "metadata": {
    "name": "cell29",
    "language": "python"
   },
   "outputs": [
    {
     "name": "stderr",
     "output_type": "stream",
     "text": [
      "The version of package 'snowflake-snowpark-python' in the local environment is 1.24.0, which does not fit the criteria for the requirement 'snowflake-snowpark-python'. Your UDF might not work when the package version is different between the server and your local environment.\n",
      "The version of package 'snowflake-snowpark-python' in the local environment is 1.24.0, which does not fit the criteria for the requirement 'snowflake-snowpark-python'. Your UDF might not work when the package version is different between the server and your local environment.\n"
     ]
    }
   ],
   "source": [
    "dag_name = \"python_api_dag\"\n",
    "dag = DAG(name=dag_name, schedule=timedelta(days=1))\n",
    "with dag:\n",
    "    dag_task1 = DAGTask(\n",
    "        name=\"task_python_api_trunc\",\n",
    "        definition=StoredProcedureCall(\n",
    "            func=trunc,\n",
    "            stage_location=f\"@{tasks_stage}\",\n",
    "            packages=[\"snowflake-snowpark-python\"]),\n",
    "        warehouse=\"COMPUTE_WH\",\n",
    "    )\n",
    "    dag_task2 = DAGTask(\n",
    "        name=\"task_python_api_filter\",\n",
    "        definition=StoredProcedureCall(\n",
    "            func=filter_by_shipmode,\n",
    "            stage_location=f\"@{tasks_stage}\",\n",
    "            packages=[\"snowflake-snowpark-python\"]),\n",
    "        warehouse=\"COMPUTE_WH\",\n",
    "    )\n",
    "    dag_task1 >> dag_task2\n",
    "dag_op = DAGOperation(schema)\n",
    "dag_op.deploy(dag, mode=CreateMode.or_replace)"
   ]
  },
  {
   "cell_type": "code",
   "execution_count": 32,
   "id": "0275fabe-7072-4e9c-85ca-09985be2bc85",
   "metadata": {
    "name": "cell30",
    "language": "python"
   },
   "outputs": [
    {
     "name": "stdout",
     "output_type": "stream",
     "text": [
      "Name:  PYTHON_API_DAG | State:  started\n",
      "Name:  PYTHON_API_DAG$TASK_PYTHON_API_FILTER | State:  started\n",
      "Name:  PYTHON_API_DAG$TASK_PYTHON_API_TRUNC | State:  started\n"
     ]
    }
   ],
   "source": [
    "taskiter = tasks.iter()\n",
    "for t in taskiter:\n",
    "    print(\"Name: \", t.name, \"| State: \", t.state)"
   ]
  },
  {
   "cell_type": "code",
   "execution_count": 33,
   "id": "be31fef6-3ca8-4e58-87f9-40a3365ab006",
   "metadata": {
    "name": "cell31",
    "language": "python"
   },
   "outputs": [],
   "source": [
    "dag_op.run(dag)"
   ]
  },
  {
   "cell_type": "code",
   "execution_count": 34,
   "id": "3a6924b4-2c42-44f4-b68f-b4fb1c32355a",
   "metadata": {
    "name": "cell32",
    "language": "python"
   },
   "outputs": [],
   "source": [
    "dag_op.drop(dag)"
   ]
  },
  {
   "cell_type": "code",
   "execution_count": null,
   "id": "101beee8-04ad-4344-ab8a-4159b80a7d73",
   "metadata": {
    "name": "cell33",
    "language": "python"
   },
   "outputs": [],
   "source": [
    "#database.drop()"
   ]
  }
 ]
}